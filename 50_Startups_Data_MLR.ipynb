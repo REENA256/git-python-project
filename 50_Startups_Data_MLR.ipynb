{
  "nbformat": 4,
  "nbformat_minor": 0,
  "metadata": {
    "colab": {
      "name": "50_Startups_Data_MLR.ipynb",
      "provenance": [],
      "collapsed_sections": [],
      "authorship_tag": "ABX9TyNAUBq8+bfnEkaLmUYXws0D",
      "include_colab_link": true
    },
    "kernelspec": {
      "name": "python3",
      "display_name": "Python 3"
    },
    "language_info": {
      "name": "python"
    }
  },
  "cells": [
    {
      "cell_type": "markdown",
      "metadata": {
        "id": "view-in-github",
        "colab_type": "text"
      },
      "source": [
        "<a href=\"https://colab.research.google.com/github/REENA256/git-python-project/blob/main/50_Startups_Data_MLR.ipynb\" target=\"_parent\"><img src=\"https://colab.research.google.com/assets/colab-badge.svg\" alt=\"Open In Colab\"/></a>"
      ]
    },
    {
      "cell_type": "code",
      "metadata": {
        "id": "kuYNmuc3iG-_"
      },
      "source": [
        "# step 1: Import data from csv file\n",
        "import pandas as pd\n",
        "data=pd.read_csv('50_Startups_MLR.csv')\n"
      ],
      "execution_count": 25,
      "outputs": []
    },
    {
      "cell_type": "code",
      "metadata": {
        "colab": {
          "base_uri": "https://localhost:8080/"
        },
        "id": "7T8utWEjkQmG",
        "outputId": "213d53a7-6bdd-459f-8637-53e011c09aa2"
      },
      "source": [
        "print(data)\n"
      ],
      "execution_count": 29,
      "outputs": [
        {
          "output_type": "stream",
          "name": "stdout",
          "text": [
            "    R&D Spend  Administration  Marketing Spend       State     Profit\n",
            "0   165349.20       136897.80        471784.10    New York  192261.83\n",
            "1   162597.70       151377.59        443898.53  California  191792.06\n",
            "2   153441.51       101145.55        407934.54     Florida  191050.39\n",
            "3   144372.41       118671.85        383199.62    New York  182901.99\n",
            "4   142107.34        91391.77        366168.42     Florida  166187.94\n",
            "5   131876.90        99814.71        362861.36    New York  156991.12\n",
            "6   134615.46       147198.87        127716.82  California  156122.51\n",
            "7   130298.13       145530.06        323876.68     Florida  155752.60\n",
            "8   120542.52       148718.95        311613.29    New York  152211.77\n",
            "9   123334.88       108679.17        304981.62  California  149759.96\n",
            "10  101913.08       110594.11        229160.95     Florida  146121.95\n",
            "11  100671.96        91790.61        249744.55  California  144259.40\n",
            "12   93863.75       127320.38        249839.44     Florida  141585.52\n",
            "13   91992.39       135495.07        252664.93  California  134307.35\n",
            "14  119943.24       156547.42        256512.92     Florida  132602.65\n",
            "15  114523.61       122616.84        261776.23    New York  129917.04\n",
            "16   78013.11       121597.55        264346.06  California  126992.93\n",
            "17   94657.16       145077.58        282574.31    New York  125370.37\n",
            "18   91749.16       114175.79        294919.57     Florida  124266.90\n",
            "19   86419.70       153514.11             0.00    New York  122776.86\n",
            "20   76253.86       113867.30        298664.47  California  118474.03\n",
            "21   78389.47       153773.43        299737.29    New York  111313.02\n",
            "22   73994.56       122782.75        303319.26     Florida  110352.25\n",
            "23   67532.53       105751.03        304768.73     Florida  108733.99\n",
            "24   77044.01        99281.34        140574.81    New York  108552.04\n",
            "25   64664.71       139553.16        137962.62  California  107404.34\n",
            "26   75328.87       144135.98        134050.07     Florida  105733.54\n",
            "27   72107.60       127864.55        353183.81    New York  105008.31\n",
            "28   66051.52       182645.56        118148.20     Florida  103282.38\n",
            "29   65605.48       153032.06        107138.38    New York  101004.64\n",
            "30   61994.48       115641.28         91131.24     Florida   99937.59\n",
            "31   61136.38       152701.92         88218.23    New York   97483.56\n",
            "32   63408.86       129219.61         46085.25  California   97427.84\n",
            "33   55493.95       103057.49        214634.81     Florida   96778.92\n",
            "34   46426.07       157693.92        210797.67  California   96712.80\n",
            "35   46014.02        85047.44        205517.64    New York   96479.51\n",
            "36   28663.76       127056.21        201126.82     Florida   90708.19\n",
            "37   44069.95        51283.14        197029.42  California   89949.14\n",
            "38   20229.59        65947.93        185265.10    New York   81229.06\n",
            "39   38558.51        82982.09        174999.30  California   81005.76\n",
            "40   28754.33       118546.05        172795.67  California   78239.91\n",
            "41   27892.92        84710.77        164470.71     Florida   77798.83\n",
            "42   23640.93        96189.63        148001.11  California   71498.49\n",
            "43   15505.73       127382.30         35534.17    New York   69758.98\n",
            "44   22177.74       154806.14         28334.72  California   65200.33\n",
            "45    1000.23       124153.04          1903.93    New York   64926.08\n",
            "46    1315.46       115816.21        297114.46     Florida   49490.75\n",
            "47       0.00       135426.92             0.00  California   42559.73\n",
            "48     542.05        51743.15             0.00    New York   35673.41\n",
            "49       0.00       116983.80         45173.06  California   14681.40\n"
          ]
        }
      ]
    },
    {
      "cell_type": "code",
      "metadata": {
        "colab": {
          "base_uri": "https://localhost:8080/"
        },
        "id": "Ecc5ZOo5kycW",
        "outputId": "3c402eba-99f0-4c56-bc06-e039210f2537"
      },
      "source": [
        "data.info()"
      ],
      "execution_count": 6,
      "outputs": [
        {
          "output_type": "stream",
          "name": "stdout",
          "text": [
            "<class 'pandas.core.frame.DataFrame'>\n",
            "RangeIndex: 50 entries, 0 to 49\n",
            "Data columns (total 5 columns):\n",
            " #   Column           Non-Null Count  Dtype  \n",
            "---  ------           --------------  -----  \n",
            " 0   R&D Spend        50 non-null     float64\n",
            " 1   Administration   50 non-null     float64\n",
            " 2   Marketing Spend  50 non-null     float64\n",
            " 3   State            50 non-null     object \n",
            " 4   Profit           50 non-null     float64\n",
            "dtypes: float64(4), object(1)\n",
            "memory usage: 2.1+ KB\n"
          ]
        }
      ]
    },
    {
      "cell_type": "code",
      "metadata": {
        "colab": {
          "base_uri": "https://localhost:8080/"
        },
        "id": "0d8P7XPRk2aA",
        "outputId": "a1338e30-9a11-418e-aff2-606040e20ca9"
      },
      "source": [
        "data.isnull().sum()"
      ],
      "execution_count": 7,
      "outputs": [
        {
          "output_type": "execute_result",
          "data": {
            "text/plain": [
              "R&D Spend          0\n",
              "Administration     0\n",
              "Marketing Spend    0\n",
              "State              0\n",
              "Profit             0\n",
              "dtype: int64"
            ]
          },
          "metadata": {},
          "execution_count": 7
        }
      ]
    },
    {
      "cell_type": "code",
      "metadata": {
        "colab": {
          "base_uri": "https://localhost:8080/",
          "height": 204
        },
        "id": "P-6_Tw-yk8V8",
        "outputId": "d2f09813-4444-40d0-f38b-6f0c0450ebe1"
      },
      "source": [
        "data.head()"
      ],
      "execution_count": 8,
      "outputs": [
        {
          "output_type": "execute_result",
          "data": {
            "text/html": [
              "<div>\n",
              "<style scoped>\n",
              "    .dataframe tbody tr th:only-of-type {\n",
              "        vertical-align: middle;\n",
              "    }\n",
              "\n",
              "    .dataframe tbody tr th {\n",
              "        vertical-align: top;\n",
              "    }\n",
              "\n",
              "    .dataframe thead th {\n",
              "        text-align: right;\n",
              "    }\n",
              "</style>\n",
              "<table border=\"1\" class=\"dataframe\">\n",
              "  <thead>\n",
              "    <tr style=\"text-align: right;\">\n",
              "      <th></th>\n",
              "      <th>R&amp;D Spend</th>\n",
              "      <th>Administration</th>\n",
              "      <th>Marketing Spend</th>\n",
              "      <th>State</th>\n",
              "      <th>Profit</th>\n",
              "    </tr>\n",
              "  </thead>\n",
              "  <tbody>\n",
              "    <tr>\n",
              "      <th>0</th>\n",
              "      <td>165349.20</td>\n",
              "      <td>136897.80</td>\n",
              "      <td>471784.10</td>\n",
              "      <td>New York</td>\n",
              "      <td>192261.83</td>\n",
              "    </tr>\n",
              "    <tr>\n",
              "      <th>1</th>\n",
              "      <td>162597.70</td>\n",
              "      <td>151377.59</td>\n",
              "      <td>443898.53</td>\n",
              "      <td>California</td>\n",
              "      <td>191792.06</td>\n",
              "    </tr>\n",
              "    <tr>\n",
              "      <th>2</th>\n",
              "      <td>153441.51</td>\n",
              "      <td>101145.55</td>\n",
              "      <td>407934.54</td>\n",
              "      <td>Florida</td>\n",
              "      <td>191050.39</td>\n",
              "    </tr>\n",
              "    <tr>\n",
              "      <th>3</th>\n",
              "      <td>144372.41</td>\n",
              "      <td>118671.85</td>\n",
              "      <td>383199.62</td>\n",
              "      <td>New York</td>\n",
              "      <td>182901.99</td>\n",
              "    </tr>\n",
              "    <tr>\n",
              "      <th>4</th>\n",
              "      <td>142107.34</td>\n",
              "      <td>91391.77</td>\n",
              "      <td>366168.42</td>\n",
              "      <td>Florida</td>\n",
              "      <td>166187.94</td>\n",
              "    </tr>\n",
              "  </tbody>\n",
              "</table>\n",
              "</div>"
            ],
            "text/plain": [
              "   R&D Spend  Administration  Marketing Spend       State     Profit\n",
              "0  165349.20       136897.80        471784.10    New York  192261.83\n",
              "1  162597.70       151377.59        443898.53  California  191792.06\n",
              "2  153441.51       101145.55        407934.54     Florida  191050.39\n",
              "3  144372.41       118671.85        383199.62    New York  182901.99\n",
              "4  142107.34        91391.77        366168.42     Florida  166187.94"
            ]
          },
          "metadata": {},
          "execution_count": 8
        }
      ]
    },
    {
      "cell_type": "code",
      "metadata": {
        "colab": {
          "base_uri": "https://localhost:8080/",
          "height": 204
        },
        "id": "3oznpPQok_re",
        "outputId": "982ebdcf-2899-4e00-8661-0694ffa34a8b"
      },
      "source": [
        "data.tail()"
      ],
      "execution_count": 9,
      "outputs": [
        {
          "output_type": "execute_result",
          "data": {
            "text/html": [
              "<div>\n",
              "<style scoped>\n",
              "    .dataframe tbody tr th:only-of-type {\n",
              "        vertical-align: middle;\n",
              "    }\n",
              "\n",
              "    .dataframe tbody tr th {\n",
              "        vertical-align: top;\n",
              "    }\n",
              "\n",
              "    .dataframe thead th {\n",
              "        text-align: right;\n",
              "    }\n",
              "</style>\n",
              "<table border=\"1\" class=\"dataframe\">\n",
              "  <thead>\n",
              "    <tr style=\"text-align: right;\">\n",
              "      <th></th>\n",
              "      <th>R&amp;D Spend</th>\n",
              "      <th>Administration</th>\n",
              "      <th>Marketing Spend</th>\n",
              "      <th>State</th>\n",
              "      <th>Profit</th>\n",
              "    </tr>\n",
              "  </thead>\n",
              "  <tbody>\n",
              "    <tr>\n",
              "      <th>45</th>\n",
              "      <td>1000.23</td>\n",
              "      <td>124153.04</td>\n",
              "      <td>1903.93</td>\n",
              "      <td>New York</td>\n",
              "      <td>64926.08</td>\n",
              "    </tr>\n",
              "    <tr>\n",
              "      <th>46</th>\n",
              "      <td>1315.46</td>\n",
              "      <td>115816.21</td>\n",
              "      <td>297114.46</td>\n",
              "      <td>Florida</td>\n",
              "      <td>49490.75</td>\n",
              "    </tr>\n",
              "    <tr>\n",
              "      <th>47</th>\n",
              "      <td>0.00</td>\n",
              "      <td>135426.92</td>\n",
              "      <td>0.00</td>\n",
              "      <td>California</td>\n",
              "      <td>42559.73</td>\n",
              "    </tr>\n",
              "    <tr>\n",
              "      <th>48</th>\n",
              "      <td>542.05</td>\n",
              "      <td>51743.15</td>\n",
              "      <td>0.00</td>\n",
              "      <td>New York</td>\n",
              "      <td>35673.41</td>\n",
              "    </tr>\n",
              "    <tr>\n",
              "      <th>49</th>\n",
              "      <td>0.00</td>\n",
              "      <td>116983.80</td>\n",
              "      <td>45173.06</td>\n",
              "      <td>California</td>\n",
              "      <td>14681.40</td>\n",
              "    </tr>\n",
              "  </tbody>\n",
              "</table>\n",
              "</div>"
            ],
            "text/plain": [
              "    R&D Spend  Administration  Marketing Spend       State    Profit\n",
              "45    1000.23       124153.04          1903.93    New York  64926.08\n",
              "46    1315.46       115816.21        297114.46     Florida  49490.75\n",
              "47       0.00       135426.92             0.00  California  42559.73\n",
              "48     542.05        51743.15             0.00    New York  35673.41\n",
              "49       0.00       116983.80         45173.06  California  14681.40"
            ]
          },
          "metadata": {},
          "execution_count": 9
        }
      ]
    },
    {
      "cell_type": "code",
      "metadata": {
        "id": "hiwYnleylCuQ"
      },
      "source": [
        "# step 2: seperate i/p & o/p\n",
        "# Independent Variables\n",
        "X=data.iloc[:,:-2].values"
      ],
      "execution_count": 30,
      "outputs": []
    },
    {
      "cell_type": "code",
      "metadata": {
        "colab": {
          "base_uri": "https://localhost:8080/"
        },
        "id": "WBj63iyPlaAr",
        "outputId": "6f9a2417-7320-4a10-9b89-bf5cc08f28fd"
      },
      "source": [
        "X"
      ],
      "execution_count": 31,
      "outputs": [
        {
          "output_type": "execute_result",
          "data": {
            "text/plain": [
              "array([[165349.2 , 136897.8 , 471784.1 ],\n",
              "       [162597.7 , 151377.59, 443898.53],\n",
              "       [153441.51, 101145.55, 407934.54],\n",
              "       [144372.41, 118671.85, 383199.62],\n",
              "       [142107.34,  91391.77, 366168.42],\n",
              "       [131876.9 ,  99814.71, 362861.36],\n",
              "       [134615.46, 147198.87, 127716.82],\n",
              "       [130298.13, 145530.06, 323876.68],\n",
              "       [120542.52, 148718.95, 311613.29],\n",
              "       [123334.88, 108679.17, 304981.62],\n",
              "       [101913.08, 110594.11, 229160.95],\n",
              "       [100671.96,  91790.61, 249744.55],\n",
              "       [ 93863.75, 127320.38, 249839.44],\n",
              "       [ 91992.39, 135495.07, 252664.93],\n",
              "       [119943.24, 156547.42, 256512.92],\n",
              "       [114523.61, 122616.84, 261776.23],\n",
              "       [ 78013.11, 121597.55, 264346.06],\n",
              "       [ 94657.16, 145077.58, 282574.31],\n",
              "       [ 91749.16, 114175.79, 294919.57],\n",
              "       [ 86419.7 , 153514.11,      0.  ],\n",
              "       [ 76253.86, 113867.3 , 298664.47],\n",
              "       [ 78389.47, 153773.43, 299737.29],\n",
              "       [ 73994.56, 122782.75, 303319.26],\n",
              "       [ 67532.53, 105751.03, 304768.73],\n",
              "       [ 77044.01,  99281.34, 140574.81],\n",
              "       [ 64664.71, 139553.16, 137962.62],\n",
              "       [ 75328.87, 144135.98, 134050.07],\n",
              "       [ 72107.6 , 127864.55, 353183.81],\n",
              "       [ 66051.52, 182645.56, 118148.2 ],\n",
              "       [ 65605.48, 153032.06, 107138.38],\n",
              "       [ 61994.48, 115641.28,  91131.24],\n",
              "       [ 61136.38, 152701.92,  88218.23],\n",
              "       [ 63408.86, 129219.61,  46085.25],\n",
              "       [ 55493.95, 103057.49, 214634.81],\n",
              "       [ 46426.07, 157693.92, 210797.67],\n",
              "       [ 46014.02,  85047.44, 205517.64],\n",
              "       [ 28663.76, 127056.21, 201126.82],\n",
              "       [ 44069.95,  51283.14, 197029.42],\n",
              "       [ 20229.59,  65947.93, 185265.1 ],\n",
              "       [ 38558.51,  82982.09, 174999.3 ],\n",
              "       [ 28754.33, 118546.05, 172795.67],\n",
              "       [ 27892.92,  84710.77, 164470.71],\n",
              "       [ 23640.93,  96189.63, 148001.11],\n",
              "       [ 15505.73, 127382.3 ,  35534.17],\n",
              "       [ 22177.74, 154806.14,  28334.72],\n",
              "       [  1000.23, 124153.04,   1903.93],\n",
              "       [  1315.46, 115816.21, 297114.46],\n",
              "       [     0.  , 135426.92,      0.  ],\n",
              "       [   542.05,  51743.15,      0.  ],\n",
              "       [     0.  , 116983.8 ,  45173.06]])"
            ]
          },
          "metadata": {},
          "execution_count": 31
        }
      ]
    },
    {
      "cell_type": "code",
      "metadata": {
        "id": "pnc84pEKld2Q"
      },
      "source": [
        "# Dependent Variables\n",
        "Y=data.iloc[:,-2:]"
      ],
      "execution_count": 12,
      "outputs": []
    },
    {
      "cell_type": "code",
      "metadata": {
        "colab": {
          "base_uri": "https://localhost:8080/",
          "height": 1000
        },
        "id": "ieXpLCnWlpvh",
        "outputId": "3e748647-c5cc-46dd-c942-abd43c1e1d5b"
      },
      "source": [
        "Y"
      ],
      "execution_count": 13,
      "outputs": [
        {
          "output_type": "execute_result",
          "data": {
            "text/html": [
              "<div>\n",
              "<style scoped>\n",
              "    .dataframe tbody tr th:only-of-type {\n",
              "        vertical-align: middle;\n",
              "    }\n",
              "\n",
              "    .dataframe tbody tr th {\n",
              "        vertical-align: top;\n",
              "    }\n",
              "\n",
              "    .dataframe thead th {\n",
              "        text-align: right;\n",
              "    }\n",
              "</style>\n",
              "<table border=\"1\" class=\"dataframe\">\n",
              "  <thead>\n",
              "    <tr style=\"text-align: right;\">\n",
              "      <th></th>\n",
              "      <th>State</th>\n",
              "      <th>Profit</th>\n",
              "    </tr>\n",
              "  </thead>\n",
              "  <tbody>\n",
              "    <tr>\n",
              "      <th>0</th>\n",
              "      <td>New York</td>\n",
              "      <td>192261.83</td>\n",
              "    </tr>\n",
              "    <tr>\n",
              "      <th>1</th>\n",
              "      <td>California</td>\n",
              "      <td>191792.06</td>\n",
              "    </tr>\n",
              "    <tr>\n",
              "      <th>2</th>\n",
              "      <td>Florida</td>\n",
              "      <td>191050.39</td>\n",
              "    </tr>\n",
              "    <tr>\n",
              "      <th>3</th>\n",
              "      <td>New York</td>\n",
              "      <td>182901.99</td>\n",
              "    </tr>\n",
              "    <tr>\n",
              "      <th>4</th>\n",
              "      <td>Florida</td>\n",
              "      <td>166187.94</td>\n",
              "    </tr>\n",
              "    <tr>\n",
              "      <th>5</th>\n",
              "      <td>New York</td>\n",
              "      <td>156991.12</td>\n",
              "    </tr>\n",
              "    <tr>\n",
              "      <th>6</th>\n",
              "      <td>California</td>\n",
              "      <td>156122.51</td>\n",
              "    </tr>\n",
              "    <tr>\n",
              "      <th>7</th>\n",
              "      <td>Florida</td>\n",
              "      <td>155752.60</td>\n",
              "    </tr>\n",
              "    <tr>\n",
              "      <th>8</th>\n",
              "      <td>New York</td>\n",
              "      <td>152211.77</td>\n",
              "    </tr>\n",
              "    <tr>\n",
              "      <th>9</th>\n",
              "      <td>California</td>\n",
              "      <td>149759.96</td>\n",
              "    </tr>\n",
              "    <tr>\n",
              "      <th>10</th>\n",
              "      <td>Florida</td>\n",
              "      <td>146121.95</td>\n",
              "    </tr>\n",
              "    <tr>\n",
              "      <th>11</th>\n",
              "      <td>California</td>\n",
              "      <td>144259.40</td>\n",
              "    </tr>\n",
              "    <tr>\n",
              "      <th>12</th>\n",
              "      <td>Florida</td>\n",
              "      <td>141585.52</td>\n",
              "    </tr>\n",
              "    <tr>\n",
              "      <th>13</th>\n",
              "      <td>California</td>\n",
              "      <td>134307.35</td>\n",
              "    </tr>\n",
              "    <tr>\n",
              "      <th>14</th>\n",
              "      <td>Florida</td>\n",
              "      <td>132602.65</td>\n",
              "    </tr>\n",
              "    <tr>\n",
              "      <th>15</th>\n",
              "      <td>New York</td>\n",
              "      <td>129917.04</td>\n",
              "    </tr>\n",
              "    <tr>\n",
              "      <th>16</th>\n",
              "      <td>California</td>\n",
              "      <td>126992.93</td>\n",
              "    </tr>\n",
              "    <tr>\n",
              "      <th>17</th>\n",
              "      <td>New York</td>\n",
              "      <td>125370.37</td>\n",
              "    </tr>\n",
              "    <tr>\n",
              "      <th>18</th>\n",
              "      <td>Florida</td>\n",
              "      <td>124266.90</td>\n",
              "    </tr>\n",
              "    <tr>\n",
              "      <th>19</th>\n",
              "      <td>New York</td>\n",
              "      <td>122776.86</td>\n",
              "    </tr>\n",
              "    <tr>\n",
              "      <th>20</th>\n",
              "      <td>California</td>\n",
              "      <td>118474.03</td>\n",
              "    </tr>\n",
              "    <tr>\n",
              "      <th>21</th>\n",
              "      <td>New York</td>\n",
              "      <td>111313.02</td>\n",
              "    </tr>\n",
              "    <tr>\n",
              "      <th>22</th>\n",
              "      <td>Florida</td>\n",
              "      <td>110352.25</td>\n",
              "    </tr>\n",
              "    <tr>\n",
              "      <th>23</th>\n",
              "      <td>Florida</td>\n",
              "      <td>108733.99</td>\n",
              "    </tr>\n",
              "    <tr>\n",
              "      <th>24</th>\n",
              "      <td>New York</td>\n",
              "      <td>108552.04</td>\n",
              "    </tr>\n",
              "    <tr>\n",
              "      <th>25</th>\n",
              "      <td>California</td>\n",
              "      <td>107404.34</td>\n",
              "    </tr>\n",
              "    <tr>\n",
              "      <th>26</th>\n",
              "      <td>Florida</td>\n",
              "      <td>105733.54</td>\n",
              "    </tr>\n",
              "    <tr>\n",
              "      <th>27</th>\n",
              "      <td>New York</td>\n",
              "      <td>105008.31</td>\n",
              "    </tr>\n",
              "    <tr>\n",
              "      <th>28</th>\n",
              "      <td>Florida</td>\n",
              "      <td>103282.38</td>\n",
              "    </tr>\n",
              "    <tr>\n",
              "      <th>29</th>\n",
              "      <td>New York</td>\n",
              "      <td>101004.64</td>\n",
              "    </tr>\n",
              "    <tr>\n",
              "      <th>30</th>\n",
              "      <td>Florida</td>\n",
              "      <td>99937.59</td>\n",
              "    </tr>\n",
              "    <tr>\n",
              "      <th>31</th>\n",
              "      <td>New York</td>\n",
              "      <td>97483.56</td>\n",
              "    </tr>\n",
              "    <tr>\n",
              "      <th>32</th>\n",
              "      <td>California</td>\n",
              "      <td>97427.84</td>\n",
              "    </tr>\n",
              "    <tr>\n",
              "      <th>33</th>\n",
              "      <td>Florida</td>\n",
              "      <td>96778.92</td>\n",
              "    </tr>\n",
              "    <tr>\n",
              "      <th>34</th>\n",
              "      <td>California</td>\n",
              "      <td>96712.80</td>\n",
              "    </tr>\n",
              "    <tr>\n",
              "      <th>35</th>\n",
              "      <td>New York</td>\n",
              "      <td>96479.51</td>\n",
              "    </tr>\n",
              "    <tr>\n",
              "      <th>36</th>\n",
              "      <td>Florida</td>\n",
              "      <td>90708.19</td>\n",
              "    </tr>\n",
              "    <tr>\n",
              "      <th>37</th>\n",
              "      <td>California</td>\n",
              "      <td>89949.14</td>\n",
              "    </tr>\n",
              "    <tr>\n",
              "      <th>38</th>\n",
              "      <td>New York</td>\n",
              "      <td>81229.06</td>\n",
              "    </tr>\n",
              "    <tr>\n",
              "      <th>39</th>\n",
              "      <td>California</td>\n",
              "      <td>81005.76</td>\n",
              "    </tr>\n",
              "    <tr>\n",
              "      <th>40</th>\n",
              "      <td>California</td>\n",
              "      <td>78239.91</td>\n",
              "    </tr>\n",
              "    <tr>\n",
              "      <th>41</th>\n",
              "      <td>Florida</td>\n",
              "      <td>77798.83</td>\n",
              "    </tr>\n",
              "    <tr>\n",
              "      <th>42</th>\n",
              "      <td>California</td>\n",
              "      <td>71498.49</td>\n",
              "    </tr>\n",
              "    <tr>\n",
              "      <th>43</th>\n",
              "      <td>New York</td>\n",
              "      <td>69758.98</td>\n",
              "    </tr>\n",
              "    <tr>\n",
              "      <th>44</th>\n",
              "      <td>California</td>\n",
              "      <td>65200.33</td>\n",
              "    </tr>\n",
              "    <tr>\n",
              "      <th>45</th>\n",
              "      <td>New York</td>\n",
              "      <td>64926.08</td>\n",
              "    </tr>\n",
              "    <tr>\n",
              "      <th>46</th>\n",
              "      <td>Florida</td>\n",
              "      <td>49490.75</td>\n",
              "    </tr>\n",
              "    <tr>\n",
              "      <th>47</th>\n",
              "      <td>California</td>\n",
              "      <td>42559.73</td>\n",
              "    </tr>\n",
              "    <tr>\n",
              "      <th>48</th>\n",
              "      <td>New York</td>\n",
              "      <td>35673.41</td>\n",
              "    </tr>\n",
              "    <tr>\n",
              "      <th>49</th>\n",
              "      <td>California</td>\n",
              "      <td>14681.40</td>\n",
              "    </tr>\n",
              "  </tbody>\n",
              "</table>\n",
              "</div>"
            ],
            "text/plain": [
              "         State     Profit\n",
              "0     New York  192261.83\n",
              "1   California  191792.06\n",
              "2      Florida  191050.39\n",
              "3     New York  182901.99\n",
              "4      Florida  166187.94\n",
              "5     New York  156991.12\n",
              "6   California  156122.51\n",
              "7      Florida  155752.60\n",
              "8     New York  152211.77\n",
              "9   California  149759.96\n",
              "10     Florida  146121.95\n",
              "11  California  144259.40\n",
              "12     Florida  141585.52\n",
              "13  California  134307.35\n",
              "14     Florida  132602.65\n",
              "15    New York  129917.04\n",
              "16  California  126992.93\n",
              "17    New York  125370.37\n",
              "18     Florida  124266.90\n",
              "19    New York  122776.86\n",
              "20  California  118474.03\n",
              "21    New York  111313.02\n",
              "22     Florida  110352.25\n",
              "23     Florida  108733.99\n",
              "24    New York  108552.04\n",
              "25  California  107404.34\n",
              "26     Florida  105733.54\n",
              "27    New York  105008.31\n",
              "28     Florida  103282.38\n",
              "29    New York  101004.64\n",
              "30     Florida   99937.59\n",
              "31    New York   97483.56\n",
              "32  California   97427.84\n",
              "33     Florida   96778.92\n",
              "34  California   96712.80\n",
              "35    New York   96479.51\n",
              "36     Florida   90708.19\n",
              "37  California   89949.14\n",
              "38    New York   81229.06\n",
              "39  California   81005.76\n",
              "40  California   78239.91\n",
              "41     Florida   77798.83\n",
              "42  California   71498.49\n",
              "43    New York   69758.98\n",
              "44  California   65200.33\n",
              "45    New York   64926.08\n",
              "46     Florida   49490.75\n",
              "47  California   42559.73\n",
              "48    New York   35673.41\n",
              "49  California   14681.40"
            ]
          },
          "metadata": {},
          "execution_count": 13
        }
      ]
    },
    {
      "cell_type": "code",
      "metadata": {
        "id": "tmXaGvWylvti"
      },
      "source": [
        "# step 3: taking the missing values\n",
        "import sklearn"
      ],
      "execution_count": 14,
      "outputs": []
    },
    {
      "cell_type": "code",
      "metadata": {
        "colab": {
          "base_uri": "https://localhost:8080/"
        },
        "id": "1J3nSd6el7Oc",
        "outputId": "d74731be-8d65-45e6-cedf-59030e32fea1"
      },
      "source": [
        "# no missing values\n",
        "data.isnull().sum()"
      ],
      "execution_count": 15,
      "outputs": [
        {
          "output_type": "execute_result",
          "data": {
            "text/plain": [
              "R&D Spend          0\n",
              "Administration     0\n",
              "Marketing Spend    0\n",
              "State              0\n",
              "Profit             0\n",
              "dtype: int64"
            ]
          },
          "metadata": {},
          "execution_count": 15
        }
      ]
    },
    {
      "cell_type": "code",
      "metadata": {
        "id": "oX0bW4simDyC"
      },
      "source": [
        "# step 4: taking care of string data\n",
        "from sklearn.compose import ColumnTransformer\n",
        "from sklearn.preprocessing import OneHotEncoder\n",
        "ct=ColumnTransformer(transformers=[('encoder',OneHotEncoder(),[0])],remainder='passthrough')\n",
        "Y=ct.fit_transform(Y)"
      ],
      "execution_count": 16,
      "outputs": []
    },
    {
      "cell_type": "code",
      "metadata": {
        "colab": {
          "base_uri": "https://localhost:8080/"
        },
        "id": "2wrZdsinm2yk",
        "outputId": "657d430b-f923-42e1-e12f-50cdb8d09163"
      },
      "source": [
        "Y"
      ],
      "execution_count": 32,
      "outputs": [
        {
          "output_type": "execute_result",
          "data": {
            "text/plain": [
              "array([[0.0000000e+00, 0.0000000e+00, 1.0000000e+00, 1.9226183e+05],\n",
              "       [1.0000000e+00, 0.0000000e+00, 0.0000000e+00, 1.9179206e+05],\n",
              "       [0.0000000e+00, 1.0000000e+00, 0.0000000e+00, 1.9105039e+05],\n",
              "       [0.0000000e+00, 0.0000000e+00, 1.0000000e+00, 1.8290199e+05],\n",
              "       [0.0000000e+00, 1.0000000e+00, 0.0000000e+00, 1.6618794e+05],\n",
              "       [0.0000000e+00, 0.0000000e+00, 1.0000000e+00, 1.5699112e+05],\n",
              "       [1.0000000e+00, 0.0000000e+00, 0.0000000e+00, 1.5612251e+05],\n",
              "       [0.0000000e+00, 1.0000000e+00, 0.0000000e+00, 1.5575260e+05],\n",
              "       [0.0000000e+00, 0.0000000e+00, 1.0000000e+00, 1.5221177e+05],\n",
              "       [1.0000000e+00, 0.0000000e+00, 0.0000000e+00, 1.4975996e+05],\n",
              "       [0.0000000e+00, 1.0000000e+00, 0.0000000e+00, 1.4612195e+05],\n",
              "       [1.0000000e+00, 0.0000000e+00, 0.0000000e+00, 1.4425940e+05],\n",
              "       [0.0000000e+00, 1.0000000e+00, 0.0000000e+00, 1.4158552e+05],\n",
              "       [1.0000000e+00, 0.0000000e+00, 0.0000000e+00, 1.3430735e+05],\n",
              "       [0.0000000e+00, 1.0000000e+00, 0.0000000e+00, 1.3260265e+05],\n",
              "       [0.0000000e+00, 0.0000000e+00, 1.0000000e+00, 1.2991704e+05],\n",
              "       [1.0000000e+00, 0.0000000e+00, 0.0000000e+00, 1.2699293e+05],\n",
              "       [0.0000000e+00, 0.0000000e+00, 1.0000000e+00, 1.2537037e+05],\n",
              "       [0.0000000e+00, 1.0000000e+00, 0.0000000e+00, 1.2426690e+05],\n",
              "       [0.0000000e+00, 0.0000000e+00, 1.0000000e+00, 1.2277686e+05],\n",
              "       [1.0000000e+00, 0.0000000e+00, 0.0000000e+00, 1.1847403e+05],\n",
              "       [0.0000000e+00, 0.0000000e+00, 1.0000000e+00, 1.1131302e+05],\n",
              "       [0.0000000e+00, 1.0000000e+00, 0.0000000e+00, 1.1035225e+05],\n",
              "       [0.0000000e+00, 1.0000000e+00, 0.0000000e+00, 1.0873399e+05],\n",
              "       [0.0000000e+00, 0.0000000e+00, 1.0000000e+00, 1.0855204e+05],\n",
              "       [1.0000000e+00, 0.0000000e+00, 0.0000000e+00, 1.0740434e+05],\n",
              "       [0.0000000e+00, 1.0000000e+00, 0.0000000e+00, 1.0573354e+05],\n",
              "       [0.0000000e+00, 0.0000000e+00, 1.0000000e+00, 1.0500831e+05],\n",
              "       [0.0000000e+00, 1.0000000e+00, 0.0000000e+00, 1.0328238e+05],\n",
              "       [0.0000000e+00, 0.0000000e+00, 1.0000000e+00, 1.0100464e+05],\n",
              "       [0.0000000e+00, 1.0000000e+00, 0.0000000e+00, 9.9937590e+04],\n",
              "       [0.0000000e+00, 0.0000000e+00, 1.0000000e+00, 9.7483560e+04],\n",
              "       [1.0000000e+00, 0.0000000e+00, 0.0000000e+00, 9.7427840e+04],\n",
              "       [0.0000000e+00, 1.0000000e+00, 0.0000000e+00, 9.6778920e+04],\n",
              "       [1.0000000e+00, 0.0000000e+00, 0.0000000e+00, 9.6712800e+04],\n",
              "       [0.0000000e+00, 0.0000000e+00, 1.0000000e+00, 9.6479510e+04],\n",
              "       [0.0000000e+00, 1.0000000e+00, 0.0000000e+00, 9.0708190e+04],\n",
              "       [1.0000000e+00, 0.0000000e+00, 0.0000000e+00, 8.9949140e+04],\n",
              "       [0.0000000e+00, 0.0000000e+00, 1.0000000e+00, 8.1229060e+04],\n",
              "       [1.0000000e+00, 0.0000000e+00, 0.0000000e+00, 8.1005760e+04],\n",
              "       [1.0000000e+00, 0.0000000e+00, 0.0000000e+00, 7.8239910e+04],\n",
              "       [0.0000000e+00, 1.0000000e+00, 0.0000000e+00, 7.7798830e+04],\n",
              "       [1.0000000e+00, 0.0000000e+00, 0.0000000e+00, 7.1498490e+04],\n",
              "       [0.0000000e+00, 0.0000000e+00, 1.0000000e+00, 6.9758980e+04],\n",
              "       [1.0000000e+00, 0.0000000e+00, 0.0000000e+00, 6.5200330e+04],\n",
              "       [0.0000000e+00, 0.0000000e+00, 1.0000000e+00, 6.4926080e+04],\n",
              "       [0.0000000e+00, 1.0000000e+00, 0.0000000e+00, 4.9490750e+04],\n",
              "       [1.0000000e+00, 0.0000000e+00, 0.0000000e+00, 4.2559730e+04],\n",
              "       [0.0000000e+00, 0.0000000e+00, 1.0000000e+00, 3.5673410e+04],\n",
              "       [1.0000000e+00, 0.0000000e+00, 0.0000000e+00, 1.4681400e+04]])"
            ]
          },
          "metadata": {},
          "execution_count": 32
        }
      ]
    },
    {
      "cell_type": "code",
      "metadata": {
        "id": "u1dk2mCIm6EW"
      },
      "source": [
        "from sklearn.model_selection import train_test_split\n",
        "X_train,X_test,Y_train,Y_test=train_test_split(X,Y,test_size=0.2)"
      ],
      "execution_count": 18,
      "outputs": []
    },
    {
      "cell_type": "code",
      "metadata": {
        "colab": {
          "base_uri": "https://localhost:8080/"
        },
        "id": "8HmTnP0ynX0e",
        "outputId": "8fb383db-3515-46a3-b1e3-7ccace43778f"
      },
      "source": [
        "X_train"
      ],
      "execution_count": 35,
      "outputs": [
        {
          "output_type": "execute_result",
          "data": {
            "text/plain": [
              "array([[ 77044.01,  99281.34],\n",
              "       [ 28754.33, 118546.05],\n",
              "       [ 61994.48, 115641.28],\n",
              "       [119943.24, 156547.42],\n",
              "       [ 73994.56, 122782.75],\n",
              "       [ 72107.6 , 127864.55],\n",
              "       [130298.13, 145530.06],\n",
              "       [114523.61, 122616.84],\n",
              "       [ 78013.11, 121597.55],\n",
              "       [142107.34,  91391.77],\n",
              "       [     0.  , 135426.92],\n",
              "       [     0.  , 116983.8 ],\n",
              "       [ 27892.92,  84710.77],\n",
              "       [ 91749.16, 114175.79],\n",
              "       [ 75328.87, 144135.98],\n",
              "       [ 15505.73, 127382.3 ],\n",
              "       [ 23640.93,  96189.63],\n",
              "       [  1315.46, 115816.21],\n",
              "       [100671.96,  91790.61],\n",
              "       [131876.9 ,  99814.71],\n",
              "       [   542.05,  51743.15],\n",
              "       [ 64664.71, 139553.16],\n",
              "       [165349.2 , 136897.8 ],\n",
              "       [ 61136.38, 152701.92],\n",
              "       [144372.41, 118671.85],\n",
              "       [ 46426.07, 157693.92],\n",
              "       [134615.46, 147198.87],\n",
              "       [ 46014.02,  85047.44],\n",
              "       [120542.52, 148718.95],\n",
              "       [ 28663.76, 127056.21],\n",
              "       [101913.08, 110594.11],\n",
              "       [ 22177.74, 154806.14],\n",
              "       [ 55493.95, 103057.49],\n",
              "       [123334.88, 108679.17],\n",
              "       [153441.51, 101145.55],\n",
              "       [ 93863.75, 127320.38],\n",
              "       [ 20229.59,  65947.93],\n",
              "       [ 66051.52, 182645.56],\n",
              "       [ 67532.53, 105751.03],\n",
              "       [ 94657.16, 145077.58]])"
            ]
          },
          "metadata": {},
          "execution_count": 35
        }
      ]
    },
    {
      "cell_type": "code",
      "metadata": {
        "colab": {
          "base_uri": "https://localhost:8080/"
        },
        "id": "1e3-sRh1nn2t",
        "outputId": "cf327ddc-5bc4-423d-9cea-fcc700df2768"
      },
      "source": [
        "X_test"
      ],
      "execution_count": 36,
      "outputs": [
        {
          "output_type": "execute_result",
          "data": {
            "text/plain": [
              "array([[  1000.23, 124153.04],\n",
              "       [ 76253.86, 113867.3 ],\n",
              "       [ 86419.7 , 153514.11],\n",
              "       [ 44069.95,  51283.14],\n",
              "       [ 38558.51,  82982.09],\n",
              "       [ 78389.47, 153773.43],\n",
              "       [ 63408.86, 129219.61],\n",
              "       [ 65605.48, 153032.06],\n",
              "       [162597.7 , 151377.59],\n",
              "       [ 91992.39, 135495.07]])"
            ]
          },
          "metadata": {},
          "execution_count": 36
        }
      ]
    },
    {
      "cell_type": "code",
      "metadata": {
        "colab": {
          "base_uri": "https://localhost:8080/"
        },
        "id": "PT3Jm46Hpnrp",
        "outputId": "12841fef-d01e-4909-9dee-09138a74729a"
      },
      "source": [
        "Y_train"
      ],
      "execution_count": 37,
      "outputs": [
        {
          "output_type": "execute_result",
          "data": {
            "text/plain": [
              "array([[0.0000000e+00, 0.0000000e+00, 1.0000000e+00, 1.0855204e+05],\n",
              "       [1.0000000e+00, 0.0000000e+00, 0.0000000e+00, 7.8239910e+04],\n",
              "       [0.0000000e+00, 1.0000000e+00, 0.0000000e+00, 9.9937590e+04],\n",
              "       [0.0000000e+00, 1.0000000e+00, 0.0000000e+00, 1.3260265e+05],\n",
              "       [0.0000000e+00, 1.0000000e+00, 0.0000000e+00, 1.1035225e+05],\n",
              "       [0.0000000e+00, 0.0000000e+00, 1.0000000e+00, 1.0500831e+05],\n",
              "       [0.0000000e+00, 1.0000000e+00, 0.0000000e+00, 1.5575260e+05],\n",
              "       [0.0000000e+00, 0.0000000e+00, 1.0000000e+00, 1.2991704e+05],\n",
              "       [1.0000000e+00, 0.0000000e+00, 0.0000000e+00, 1.2699293e+05],\n",
              "       [0.0000000e+00, 1.0000000e+00, 0.0000000e+00, 1.6618794e+05],\n",
              "       [1.0000000e+00, 0.0000000e+00, 0.0000000e+00, 4.2559730e+04],\n",
              "       [1.0000000e+00, 0.0000000e+00, 0.0000000e+00, 1.4681400e+04],\n",
              "       [0.0000000e+00, 1.0000000e+00, 0.0000000e+00, 7.7798830e+04],\n",
              "       [0.0000000e+00, 1.0000000e+00, 0.0000000e+00, 1.2426690e+05],\n",
              "       [0.0000000e+00, 1.0000000e+00, 0.0000000e+00, 1.0573354e+05],\n",
              "       [0.0000000e+00, 0.0000000e+00, 1.0000000e+00, 6.9758980e+04],\n",
              "       [1.0000000e+00, 0.0000000e+00, 0.0000000e+00, 7.1498490e+04],\n",
              "       [0.0000000e+00, 1.0000000e+00, 0.0000000e+00, 4.9490750e+04],\n",
              "       [1.0000000e+00, 0.0000000e+00, 0.0000000e+00, 1.4425940e+05],\n",
              "       [0.0000000e+00, 0.0000000e+00, 1.0000000e+00, 1.5699112e+05],\n",
              "       [0.0000000e+00, 0.0000000e+00, 1.0000000e+00, 3.5673410e+04],\n",
              "       [1.0000000e+00, 0.0000000e+00, 0.0000000e+00, 1.0740434e+05],\n",
              "       [0.0000000e+00, 0.0000000e+00, 1.0000000e+00, 1.9226183e+05],\n",
              "       [0.0000000e+00, 0.0000000e+00, 1.0000000e+00, 9.7483560e+04],\n",
              "       [0.0000000e+00, 0.0000000e+00, 1.0000000e+00, 1.8290199e+05],\n",
              "       [1.0000000e+00, 0.0000000e+00, 0.0000000e+00, 9.6712800e+04],\n",
              "       [1.0000000e+00, 0.0000000e+00, 0.0000000e+00, 1.5612251e+05],\n",
              "       [0.0000000e+00, 0.0000000e+00, 1.0000000e+00, 9.6479510e+04],\n",
              "       [0.0000000e+00, 0.0000000e+00, 1.0000000e+00, 1.5221177e+05],\n",
              "       [0.0000000e+00, 1.0000000e+00, 0.0000000e+00, 9.0708190e+04],\n",
              "       [0.0000000e+00, 1.0000000e+00, 0.0000000e+00, 1.4612195e+05],\n",
              "       [1.0000000e+00, 0.0000000e+00, 0.0000000e+00, 6.5200330e+04],\n",
              "       [0.0000000e+00, 1.0000000e+00, 0.0000000e+00, 9.6778920e+04],\n",
              "       [1.0000000e+00, 0.0000000e+00, 0.0000000e+00, 1.4975996e+05],\n",
              "       [0.0000000e+00, 1.0000000e+00, 0.0000000e+00, 1.9105039e+05],\n",
              "       [0.0000000e+00, 1.0000000e+00, 0.0000000e+00, 1.4158552e+05],\n",
              "       [0.0000000e+00, 0.0000000e+00, 1.0000000e+00, 8.1229060e+04],\n",
              "       [0.0000000e+00, 1.0000000e+00, 0.0000000e+00, 1.0328238e+05],\n",
              "       [0.0000000e+00, 1.0000000e+00, 0.0000000e+00, 1.0873399e+05],\n",
              "       [0.0000000e+00, 0.0000000e+00, 1.0000000e+00, 1.2537037e+05]])"
            ]
          },
          "metadata": {},
          "execution_count": 37
        }
      ]
    },
    {
      "cell_type": "code",
      "metadata": {
        "colab": {
          "base_uri": "https://localhost:8080/"
        },
        "id": "UnSmT29LpsUC",
        "outputId": "1c860d91-ab05-45ea-962f-3088c4a02af2"
      },
      "source": [
        "Y_test"
      ],
      "execution_count": 38,
      "outputs": [
        {
          "output_type": "execute_result",
          "data": {
            "text/plain": [
              "array([[0.0000000e+00, 0.0000000e+00, 1.0000000e+00, 6.4926080e+04],\n",
              "       [1.0000000e+00, 0.0000000e+00, 0.0000000e+00, 1.1847403e+05],\n",
              "       [0.0000000e+00, 0.0000000e+00, 1.0000000e+00, 1.2277686e+05],\n",
              "       [1.0000000e+00, 0.0000000e+00, 0.0000000e+00, 8.9949140e+04],\n",
              "       [1.0000000e+00, 0.0000000e+00, 0.0000000e+00, 8.1005760e+04],\n",
              "       [0.0000000e+00, 0.0000000e+00, 1.0000000e+00, 1.1131302e+05],\n",
              "       [1.0000000e+00, 0.0000000e+00, 0.0000000e+00, 9.7427840e+04],\n",
              "       [0.0000000e+00, 0.0000000e+00, 1.0000000e+00, 1.0100464e+05],\n",
              "       [1.0000000e+00, 0.0000000e+00, 0.0000000e+00, 1.9179206e+05],\n",
              "       [1.0000000e+00, 0.0000000e+00, 0.0000000e+00, 1.3430735e+05]])"
            ]
          },
          "metadata": {},
          "execution_count": 38
        }
      ]
    }
  ]
}