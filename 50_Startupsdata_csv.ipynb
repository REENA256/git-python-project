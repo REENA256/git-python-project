{
  "nbformat": 4,
  "nbformat_minor": 0,
  "metadata": {
    "colab": {
      "name": "50_Startupsdata_csv.ipynb",
      "provenance": [],
      "authorship_tag": "ABX9TyNNbF8fDvCmg3i4Lc/ecIxS",
      "include_colab_link": true
    },
    "kernelspec": {
      "name": "python3",
      "display_name": "Python 3"
    },
    "language_info": {
      "name": "python"
    }
  },
  "cells": [
    {
      "cell_type": "markdown",
      "metadata": {
        "id": "view-in-github",
        "colab_type": "text"
      },
      "source": [
        "<a href=\"https://colab.research.google.com/github/REENA256/git-python-project/blob/main/50_Startupsdata_csv.ipynb\" target=\"_parent\"><img src=\"https://colab.research.google.com/assets/colab-badge.svg\" alt=\"Open In Colab\"/></a>"
      ]
    },
    {
      "cell_type": "code",
      "metadata": {
        "id": "UcDBiqKOABIW",
        "colab": {
          "base_uri": "https://localhost:8080/"
        },
        "outputId": "ddbcd497-05db-422c-9096-217a6cf0aa96"
      },
      "source": [
        "!pip install pandas"
      ],
      "execution_count": 1,
      "outputs": [
        {
          "output_type": "stream",
          "name": "stdout",
          "text": [
            "Requirement already satisfied: pandas in /usr/local/lib/python3.7/dist-packages (1.1.5)\n",
            "Requirement already satisfied: numpy>=1.15.4 in /usr/local/lib/python3.7/dist-packages (from pandas) (1.19.5)\n",
            "Requirement already satisfied: pytz>=2017.2 in /usr/local/lib/python3.7/dist-packages (from pandas) (2018.9)\n",
            "Requirement already satisfied: python-dateutil>=2.7.3 in /usr/local/lib/python3.7/dist-packages (from pandas) (2.8.2)\n",
            "Requirement already satisfied: six>=1.5 in /usr/local/lib/python3.7/dist-packages (from python-dateutil>=2.7.3->pandas) (1.15.0)\n"
          ]
        }
      ]
    },
    {
      "cell_type": "code",
      "metadata": {
        "id": "8zz7Xm68BgJ3"
      },
      "source": [
        "import pandas as pd\n",
        "data=pd.read_csv('50_Startups_MLR.csv')"
      ],
      "execution_count": 6,
      "outputs": []
    },
    {
      "cell_type": "code",
      "metadata": {
        "colab": {
          "base_uri": "https://localhost:8080/"
        },
        "id": "ahL8U383CpfY",
        "outputId": "1ad24c3c-c029-4e69-cf73-b7a0c205a9bf"
      },
      "source": [
        "print(data)"
      ],
      "execution_count": 9,
      "outputs": [
        {
          "output_type": "stream",
          "name": "stdout",
          "text": [
            "    R&D Spend  Administration  Marketing Spend       State     Profit\n",
            "0   165349.20       136897.80        471784.10    New York  192261.83\n",
            "1   162597.70       151377.59        443898.53  California  191792.06\n",
            "2   153441.51       101145.55        407934.54     Florida  191050.39\n",
            "3   144372.41       118671.85        383199.62    New York  182901.99\n",
            "4   142107.34        91391.77        366168.42     Florida  166187.94\n",
            "5   131876.90        99814.71        362861.36    New York  156991.12\n",
            "6   134615.46       147198.87        127716.82  California  156122.51\n",
            "7   130298.13       145530.06        323876.68     Florida  155752.60\n",
            "8   120542.52       148718.95        311613.29    New York  152211.77\n",
            "9   123334.88       108679.17        304981.62  California  149759.96\n",
            "10  101913.08       110594.11        229160.95     Florida  146121.95\n",
            "11  100671.96        91790.61        249744.55  California  144259.40\n",
            "12   93863.75       127320.38        249839.44     Florida  141585.52\n",
            "13   91992.39       135495.07        252664.93  California  134307.35\n",
            "14  119943.24       156547.42        256512.92     Florida  132602.65\n",
            "15  114523.61       122616.84        261776.23    New York  129917.04\n",
            "16   78013.11       121597.55        264346.06  California  126992.93\n",
            "17   94657.16       145077.58        282574.31    New York  125370.37\n",
            "18   91749.16       114175.79        294919.57     Florida  124266.90\n",
            "19   86419.70       153514.11             0.00    New York  122776.86\n",
            "20   76253.86       113867.30        298664.47  California  118474.03\n",
            "21   78389.47       153773.43        299737.29    New York  111313.02\n",
            "22   73994.56       122782.75        303319.26     Florida  110352.25\n",
            "23   67532.53       105751.03        304768.73     Florida  108733.99\n",
            "24   77044.01        99281.34        140574.81    New York  108552.04\n",
            "25   64664.71       139553.16        137962.62  California  107404.34\n",
            "26   75328.87       144135.98        134050.07     Florida  105733.54\n",
            "27   72107.60       127864.55        353183.81    New York  105008.31\n",
            "28   66051.52       182645.56        118148.20     Florida  103282.38\n",
            "29   65605.48       153032.06        107138.38    New York  101004.64\n",
            "30   61994.48       115641.28         91131.24     Florida   99937.59\n",
            "31   61136.38       152701.92         88218.23    New York   97483.56\n",
            "32   63408.86       129219.61         46085.25  California   97427.84\n",
            "33   55493.95       103057.49        214634.81     Florida   96778.92\n",
            "34   46426.07       157693.92        210797.67  California   96712.80\n",
            "35   46014.02        85047.44        205517.64    New York   96479.51\n",
            "36   28663.76       127056.21        201126.82     Florida   90708.19\n",
            "37   44069.95        51283.14        197029.42  California   89949.14\n",
            "38   20229.59        65947.93        185265.10    New York   81229.06\n",
            "39   38558.51        82982.09        174999.30  California   81005.76\n",
            "40   28754.33       118546.05        172795.67  California   78239.91\n",
            "41   27892.92        84710.77        164470.71     Florida   77798.83\n",
            "42   23640.93        96189.63        148001.11  California   71498.49\n",
            "43   15505.73       127382.30         35534.17    New York   69758.98\n",
            "44   22177.74       154806.14         28334.72  California   65200.33\n",
            "45    1000.23       124153.04          1903.93    New York   64926.08\n",
            "46    1315.46       115816.21        297114.46     Florida   49490.75\n",
            "47       0.00       135426.92             0.00  California   42559.73\n",
            "48     542.05        51743.15             0.00    New York   35673.41\n",
            "49       0.00       116983.80         45173.06  California   14681.40\n"
          ]
        }
      ]
    },
    {
      "cell_type": "code",
      "metadata": {
        "colab": {
          "base_uri": "https://localhost:8080/"
        },
        "id": "Tq-ZQgj_DimA",
        "outputId": "3bc2f3cd-d855-4c33-cef6-c838bcfd1cc3"
      },
      "source": [
        "data.columns"
      ],
      "execution_count": 10,
      "outputs": [
        {
          "output_type": "execute_result",
          "data": {
            "text/plain": [
              "Index(['R&D Spend', 'Administration', 'Marketing Spend', 'State', 'Profit'], dtype='object')"
            ]
          },
          "metadata": {},
          "execution_count": 10
        }
      ]
    },
    {
      "cell_type": "code",
      "metadata": {
        "colab": {
          "base_uri": "https://localhost:8080/",
          "height": 204
        },
        "id": "tzlueJ-fEKH_",
        "outputId": "d2aae474-89b1-4f0f-eaed-d1d89728e21d"
      },
      "source": [
        "data.head()"
      ],
      "execution_count": 11,
      "outputs": [
        {
          "output_type": "execute_result",
          "data": {
            "text/html": [
              "<div>\n",
              "<style scoped>\n",
              "    .dataframe tbody tr th:only-of-type {\n",
              "        vertical-align: middle;\n",
              "    }\n",
              "\n",
              "    .dataframe tbody tr th {\n",
              "        vertical-align: top;\n",
              "    }\n",
              "\n",
              "    .dataframe thead th {\n",
              "        text-align: right;\n",
              "    }\n",
              "</style>\n",
              "<table border=\"1\" class=\"dataframe\">\n",
              "  <thead>\n",
              "    <tr style=\"text-align: right;\">\n",
              "      <th></th>\n",
              "      <th>R&amp;D Spend</th>\n",
              "      <th>Administration</th>\n",
              "      <th>Marketing Spend</th>\n",
              "      <th>State</th>\n",
              "      <th>Profit</th>\n",
              "    </tr>\n",
              "  </thead>\n",
              "  <tbody>\n",
              "    <tr>\n",
              "      <th>0</th>\n",
              "      <td>165349.20</td>\n",
              "      <td>136897.80</td>\n",
              "      <td>471784.10</td>\n",
              "      <td>New York</td>\n",
              "      <td>192261.83</td>\n",
              "    </tr>\n",
              "    <tr>\n",
              "      <th>1</th>\n",
              "      <td>162597.70</td>\n",
              "      <td>151377.59</td>\n",
              "      <td>443898.53</td>\n",
              "      <td>California</td>\n",
              "      <td>191792.06</td>\n",
              "    </tr>\n",
              "    <tr>\n",
              "      <th>2</th>\n",
              "      <td>153441.51</td>\n",
              "      <td>101145.55</td>\n",
              "      <td>407934.54</td>\n",
              "      <td>Florida</td>\n",
              "      <td>191050.39</td>\n",
              "    </tr>\n",
              "    <tr>\n",
              "      <th>3</th>\n",
              "      <td>144372.41</td>\n",
              "      <td>118671.85</td>\n",
              "      <td>383199.62</td>\n",
              "      <td>New York</td>\n",
              "      <td>182901.99</td>\n",
              "    </tr>\n",
              "    <tr>\n",
              "      <th>4</th>\n",
              "      <td>142107.34</td>\n",
              "      <td>91391.77</td>\n",
              "      <td>366168.42</td>\n",
              "      <td>Florida</td>\n",
              "      <td>166187.94</td>\n",
              "    </tr>\n",
              "  </tbody>\n",
              "</table>\n",
              "</div>"
            ],
            "text/plain": [
              "   R&D Spend  Administration  Marketing Spend       State     Profit\n",
              "0  165349.20       136897.80        471784.10    New York  192261.83\n",
              "1  162597.70       151377.59        443898.53  California  191792.06\n",
              "2  153441.51       101145.55        407934.54     Florida  191050.39\n",
              "3  144372.41       118671.85        383199.62    New York  182901.99\n",
              "4  142107.34        91391.77        366168.42     Florida  166187.94"
            ]
          },
          "metadata": {},
          "execution_count": 11
        }
      ]
    },
    {
      "cell_type": "code",
      "metadata": {
        "colab": {
          "base_uri": "https://localhost:8080/",
          "height": 204
        },
        "id": "2toTk_44ENgo",
        "outputId": "db03067c-9fa2-4cce-c263-0dca744b7264"
      },
      "source": [
        "data.tail()"
      ],
      "execution_count": 12,
      "outputs": [
        {
          "output_type": "execute_result",
          "data": {
            "text/html": [
              "<div>\n",
              "<style scoped>\n",
              "    .dataframe tbody tr th:only-of-type {\n",
              "        vertical-align: middle;\n",
              "    }\n",
              "\n",
              "    .dataframe tbody tr th {\n",
              "        vertical-align: top;\n",
              "    }\n",
              "\n",
              "    .dataframe thead th {\n",
              "        text-align: right;\n",
              "    }\n",
              "</style>\n",
              "<table border=\"1\" class=\"dataframe\">\n",
              "  <thead>\n",
              "    <tr style=\"text-align: right;\">\n",
              "      <th></th>\n",
              "      <th>R&amp;D Spend</th>\n",
              "      <th>Administration</th>\n",
              "      <th>Marketing Spend</th>\n",
              "      <th>State</th>\n",
              "      <th>Profit</th>\n",
              "    </tr>\n",
              "  </thead>\n",
              "  <tbody>\n",
              "    <tr>\n",
              "      <th>45</th>\n",
              "      <td>1000.23</td>\n",
              "      <td>124153.04</td>\n",
              "      <td>1903.93</td>\n",
              "      <td>New York</td>\n",
              "      <td>64926.08</td>\n",
              "    </tr>\n",
              "    <tr>\n",
              "      <th>46</th>\n",
              "      <td>1315.46</td>\n",
              "      <td>115816.21</td>\n",
              "      <td>297114.46</td>\n",
              "      <td>Florida</td>\n",
              "      <td>49490.75</td>\n",
              "    </tr>\n",
              "    <tr>\n",
              "      <th>47</th>\n",
              "      <td>0.00</td>\n",
              "      <td>135426.92</td>\n",
              "      <td>0.00</td>\n",
              "      <td>California</td>\n",
              "      <td>42559.73</td>\n",
              "    </tr>\n",
              "    <tr>\n",
              "      <th>48</th>\n",
              "      <td>542.05</td>\n",
              "      <td>51743.15</td>\n",
              "      <td>0.00</td>\n",
              "      <td>New York</td>\n",
              "      <td>35673.41</td>\n",
              "    </tr>\n",
              "    <tr>\n",
              "      <th>49</th>\n",
              "      <td>0.00</td>\n",
              "      <td>116983.80</td>\n",
              "      <td>45173.06</td>\n",
              "      <td>California</td>\n",
              "      <td>14681.40</td>\n",
              "    </tr>\n",
              "  </tbody>\n",
              "</table>\n",
              "</div>"
            ],
            "text/plain": [
              "    R&D Spend  Administration  Marketing Spend       State    Profit\n",
              "45    1000.23       124153.04          1903.93    New York  64926.08\n",
              "46    1315.46       115816.21        297114.46     Florida  49490.75\n",
              "47       0.00       135426.92             0.00  California  42559.73\n",
              "48     542.05        51743.15             0.00    New York  35673.41\n",
              "49       0.00       116983.80         45173.06  California  14681.40"
            ]
          },
          "metadata": {},
          "execution_count": 12
        }
      ]
    },
    {
      "cell_type": "code",
      "metadata": {
        "id": "Ek5bxrKHEQ9Z"
      },
      "source": [
        "X=data.iloc[:,0:-1].values"
      ],
      "execution_count": 13,
      "outputs": []
    },
    {
      "cell_type": "code",
      "metadata": {
        "colab": {
          "base_uri": "https://localhost:8080/"
        },
        "id": "XdBVDPMGEZFd",
        "outputId": "0ac53206-f82c-4a17-e593-3999180f72d8"
      },
      "source": [
        "X"
      ],
      "execution_count": 14,
      "outputs": [
        {
          "output_type": "execute_result",
          "data": {
            "text/plain": [
              "array([[165349.2, 136897.8, 471784.1, 'New York'],\n",
              "       [162597.7, 151377.59, 443898.53, 'California'],\n",
              "       [153441.51, 101145.55, 407934.54, 'Florida'],\n",
              "       [144372.41, 118671.85, 383199.62, 'New York'],\n",
              "       [142107.34, 91391.77, 366168.42, 'Florida'],\n",
              "       [131876.9, 99814.71, 362861.36, 'New York'],\n",
              "       [134615.46, 147198.87, 127716.82, 'California'],\n",
              "       [130298.13, 145530.06, 323876.68, 'Florida'],\n",
              "       [120542.52, 148718.95, 311613.29, 'New York'],\n",
              "       [123334.88, 108679.17, 304981.62, 'California'],\n",
              "       [101913.08, 110594.11, 229160.95, 'Florida'],\n",
              "       [100671.96, 91790.61, 249744.55, 'California'],\n",
              "       [93863.75, 127320.38, 249839.44, 'Florida'],\n",
              "       [91992.39, 135495.07, 252664.93, 'California'],\n",
              "       [119943.24, 156547.42, 256512.92, 'Florida'],\n",
              "       [114523.61, 122616.84, 261776.23, 'New York'],\n",
              "       [78013.11, 121597.55, 264346.06, 'California'],\n",
              "       [94657.16, 145077.58, 282574.31, 'New York'],\n",
              "       [91749.16, 114175.79, 294919.57, 'Florida'],\n",
              "       [86419.7, 153514.11, 0.0, 'New York'],\n",
              "       [76253.86, 113867.3, 298664.47, 'California'],\n",
              "       [78389.47, 153773.43, 299737.29, 'New York'],\n",
              "       [73994.56, 122782.75, 303319.26, 'Florida'],\n",
              "       [67532.53, 105751.03, 304768.73, 'Florida'],\n",
              "       [77044.01, 99281.34, 140574.81, 'New York'],\n",
              "       [64664.71, 139553.16, 137962.62, 'California'],\n",
              "       [75328.87, 144135.98, 134050.07, 'Florida'],\n",
              "       [72107.6, 127864.55, 353183.81, 'New York'],\n",
              "       [66051.52, 182645.56, 118148.2, 'Florida'],\n",
              "       [65605.48, 153032.06, 107138.38, 'New York'],\n",
              "       [61994.48, 115641.28, 91131.24, 'Florida'],\n",
              "       [61136.38, 152701.92, 88218.23, 'New York'],\n",
              "       [63408.86, 129219.61, 46085.25, 'California'],\n",
              "       [55493.95, 103057.49, 214634.81, 'Florida'],\n",
              "       [46426.07, 157693.92, 210797.67, 'California'],\n",
              "       [46014.02, 85047.44, 205517.64, 'New York'],\n",
              "       [28663.76, 127056.21, 201126.82, 'Florida'],\n",
              "       [44069.95, 51283.14, 197029.42, 'California'],\n",
              "       [20229.59, 65947.93, 185265.1, 'New York'],\n",
              "       [38558.51, 82982.09, 174999.3, 'California'],\n",
              "       [28754.33, 118546.05, 172795.67, 'California'],\n",
              "       [27892.92, 84710.77, 164470.71, 'Florida'],\n",
              "       [23640.93, 96189.63, 148001.11, 'California'],\n",
              "       [15505.73, 127382.3, 35534.17, 'New York'],\n",
              "       [22177.74, 154806.14, 28334.72, 'California'],\n",
              "       [1000.23, 124153.04, 1903.93, 'New York'],\n",
              "       [1315.46, 115816.21, 297114.46, 'Florida'],\n",
              "       [0.0, 135426.92, 0.0, 'California'],\n",
              "       [542.05, 51743.15, 0.0, 'New York'],\n",
              "       [0.0, 116983.8, 45173.06, 'California']], dtype=object)"
            ]
          },
          "metadata": {},
          "execution_count": 14
        }
      ]
    },
    {
      "cell_type": "code",
      "metadata": {
        "colab": {
          "base_uri": "https://localhost:8080/"
        },
        "id": "faMjBHZdEcpD",
        "outputId": "627f81ff-6e95-4c91-ec99-902e9a3dfa28"
      },
      "source": [
        "Y=data.iloc[:,-1].values\n",
        "Y"
      ],
      "execution_count": 15,
      "outputs": [
        {
          "output_type": "execute_result",
          "data": {
            "text/plain": [
              "array([192261.83, 191792.06, 191050.39, 182901.99, 166187.94, 156991.12,\n",
              "       156122.51, 155752.6 , 152211.77, 149759.96, 146121.95, 144259.4 ,\n",
              "       141585.52, 134307.35, 132602.65, 129917.04, 126992.93, 125370.37,\n",
              "       124266.9 , 122776.86, 118474.03, 111313.02, 110352.25, 108733.99,\n",
              "       108552.04, 107404.34, 105733.54, 105008.31, 103282.38, 101004.64,\n",
              "        99937.59,  97483.56,  97427.84,  96778.92,  96712.8 ,  96479.51,\n",
              "        90708.19,  89949.14,  81229.06,  81005.76,  78239.91,  77798.83,\n",
              "        71498.49,  69758.98,  65200.33,  64926.08,  49490.75,  42559.73,\n",
              "        35673.41,  14681.4 ])"
            ]
          },
          "metadata": {},
          "execution_count": 15
        }
      ]
    },
    {
      "cell_type": "code",
      "metadata": {
        "colab": {
          "base_uri": "https://localhost:8080/"
        },
        "id": "9DZ1U3U3Emjf",
        "outputId": "1510945f-5973-4b8e-da12-78e5f6e3910a"
      },
      "source": [
        "!pip install sklearn"
      ],
      "execution_count": 16,
      "outputs": [
        {
          "output_type": "stream",
          "name": "stdout",
          "text": [
            "Requirement already satisfied: sklearn in /usr/local/lib/python3.7/dist-packages (0.0)\n",
            "Requirement already satisfied: scikit-learn in /usr/local/lib/python3.7/dist-packages (from sklearn) (0.22.2.post1)\n",
            "Requirement already satisfied: joblib>=0.11 in /usr/local/lib/python3.7/dist-packages (from scikit-learn->sklearn) (1.1.0)\n",
            "Requirement already satisfied: scipy>=0.17.0 in /usr/local/lib/python3.7/dist-packages (from scikit-learn->sklearn) (1.4.1)\n",
            "Requirement already satisfied: numpy>=1.11.0 in /usr/local/lib/python3.7/dist-packages (from scikit-learn->sklearn) (1.19.5)\n"
          ]
        }
      ]
    },
    {
      "cell_type": "code",
      "metadata": {
        "id": "zJ2nnYfREruz"
      },
      "source": [
        "from sklearn.compose import ColumnTransformer\n",
        "from sklearn.preprocessing import OneHotEncoder\n",
        "ct=ColumnTransformer(transformers=[('encoder',OneHotEncoder(),[3])],remainder='passthrough')\n",
        "X=ct.fit_transform(X)"
      ],
      "execution_count": 18,
      "outputs": []
    },
    {
      "cell_type": "code",
      "metadata": {
        "colab": {
          "base_uri": "https://localhost:8080/"
        },
        "id": "P7bUswJuFif-",
        "outputId": "0e23927b-4578-4d19-994e-c00512552a05"
      },
      "source": [
        "X"
      ],
      "execution_count": 19,
      "outputs": [
        {
          "output_type": "execute_result",
          "data": {
            "text/plain": [
              "array([[0.0, 0.0, 1.0, 165349.2, 136897.8, 471784.1],\n",
              "       [1.0, 0.0, 0.0, 162597.7, 151377.59, 443898.53],\n",
              "       [0.0, 1.0, 0.0, 153441.51, 101145.55, 407934.54],\n",
              "       [0.0, 0.0, 1.0, 144372.41, 118671.85, 383199.62],\n",
              "       [0.0, 1.0, 0.0, 142107.34, 91391.77, 366168.42],\n",
              "       [0.0, 0.0, 1.0, 131876.9, 99814.71, 362861.36],\n",
              "       [1.0, 0.0, 0.0, 134615.46, 147198.87, 127716.82],\n",
              "       [0.0, 1.0, 0.0, 130298.13, 145530.06, 323876.68],\n",
              "       [0.0, 0.0, 1.0, 120542.52, 148718.95, 311613.29],\n",
              "       [1.0, 0.0, 0.0, 123334.88, 108679.17, 304981.62],\n",
              "       [0.0, 1.0, 0.0, 101913.08, 110594.11, 229160.95],\n",
              "       [1.0, 0.0, 0.0, 100671.96, 91790.61, 249744.55],\n",
              "       [0.0, 1.0, 0.0, 93863.75, 127320.38, 249839.44],\n",
              "       [1.0, 0.0, 0.0, 91992.39, 135495.07, 252664.93],\n",
              "       [0.0, 1.0, 0.0, 119943.24, 156547.42, 256512.92],\n",
              "       [0.0, 0.0, 1.0, 114523.61, 122616.84, 261776.23],\n",
              "       [1.0, 0.0, 0.0, 78013.11, 121597.55, 264346.06],\n",
              "       [0.0, 0.0, 1.0, 94657.16, 145077.58, 282574.31],\n",
              "       [0.0, 1.0, 0.0, 91749.16, 114175.79, 294919.57],\n",
              "       [0.0, 0.0, 1.0, 86419.7, 153514.11, 0.0],\n",
              "       [1.0, 0.0, 0.0, 76253.86, 113867.3, 298664.47],\n",
              "       [0.0, 0.0, 1.0, 78389.47, 153773.43, 299737.29],\n",
              "       [0.0, 1.0, 0.0, 73994.56, 122782.75, 303319.26],\n",
              "       [0.0, 1.0, 0.0, 67532.53, 105751.03, 304768.73],\n",
              "       [0.0, 0.0, 1.0, 77044.01, 99281.34, 140574.81],\n",
              "       [1.0, 0.0, 0.0, 64664.71, 139553.16, 137962.62],\n",
              "       [0.0, 1.0, 0.0, 75328.87, 144135.98, 134050.07],\n",
              "       [0.0, 0.0, 1.0, 72107.6, 127864.55, 353183.81],\n",
              "       [0.0, 1.0, 0.0, 66051.52, 182645.56, 118148.2],\n",
              "       [0.0, 0.0, 1.0, 65605.48, 153032.06, 107138.38],\n",
              "       [0.0, 1.0, 0.0, 61994.48, 115641.28, 91131.24],\n",
              "       [0.0, 0.0, 1.0, 61136.38, 152701.92, 88218.23],\n",
              "       [1.0, 0.0, 0.0, 63408.86, 129219.61, 46085.25],\n",
              "       [0.0, 1.0, 0.0, 55493.95, 103057.49, 214634.81],\n",
              "       [1.0, 0.0, 0.0, 46426.07, 157693.92, 210797.67],\n",
              "       [0.0, 0.0, 1.0, 46014.02, 85047.44, 205517.64],\n",
              "       [0.0, 1.0, 0.0, 28663.76, 127056.21, 201126.82],\n",
              "       [1.0, 0.0, 0.0, 44069.95, 51283.14, 197029.42],\n",
              "       [0.0, 0.0, 1.0, 20229.59, 65947.93, 185265.1],\n",
              "       [1.0, 0.0, 0.0, 38558.51, 82982.09, 174999.3],\n",
              "       [1.0, 0.0, 0.0, 28754.33, 118546.05, 172795.67],\n",
              "       [0.0, 1.0, 0.0, 27892.92, 84710.77, 164470.71],\n",
              "       [1.0, 0.0, 0.0, 23640.93, 96189.63, 148001.11],\n",
              "       [0.0, 0.0, 1.0, 15505.73, 127382.3, 35534.17],\n",
              "       [1.0, 0.0, 0.0, 22177.74, 154806.14, 28334.72],\n",
              "       [0.0, 0.0, 1.0, 1000.23, 124153.04, 1903.93],\n",
              "       [0.0, 1.0, 0.0, 1315.46, 115816.21, 297114.46],\n",
              "       [1.0, 0.0, 0.0, 0.0, 135426.92, 0.0],\n",
              "       [0.0, 0.0, 1.0, 542.05, 51743.15, 0.0],\n",
              "       [1.0, 0.0, 0.0, 0.0, 116983.8, 45173.06]], dtype=object)"
            ]
          },
          "metadata": {},
          "execution_count": 19
        }
      ]
    },
    {
      "cell_type": "code",
      "metadata": {
        "colab": {
          "base_uri": "https://localhost:8080/"
        },
        "id": "zS29eNQZFmzL",
        "outputId": "e7eb5cff-e77f-4188-ec70-ba9319d5b5aa"
      },
      "source": [
        "!pip install StandardScaler"
      ],
      "execution_count": 20,
      "outputs": [
        {
          "output_type": "stream",
          "name": "stdout",
          "text": [
            "Collecting StandardScaler\n",
            "  Downloading StandardScaler-0.5.tar.gz (2.4 kB)\n",
            "Requirement already satisfied: numpy in /usr/local/lib/python3.7/dist-packages (from StandardScaler) (1.19.5)\n",
            "Requirement already satisfied: pandas in /usr/local/lib/python3.7/dist-packages (from StandardScaler) (1.1.5)\n",
            "Requirement already satisfied: scikit-learn in /usr/local/lib/python3.7/dist-packages (from StandardScaler) (0.22.2.post1)\n",
            "Collecting scikit-elm\n",
            "  Downloading scikit_elm-0.21a0-py3-none-any.whl (30 kB)\n",
            "Requirement already satisfied: dask in /usr/local/lib/python3.7/dist-packages (from StandardScaler) (2.12.0)\n",
            "Requirement already satisfied: python-dateutil>=2.7.3 in /usr/local/lib/python3.7/dist-packages (from pandas->StandardScaler) (2.8.2)\n",
            "Requirement already satisfied: pytz>=2017.2 in /usr/local/lib/python3.7/dist-packages (from pandas->StandardScaler) (2018.9)\n",
            "Requirement already satisfied: six>=1.5 in /usr/local/lib/python3.7/dist-packages (from python-dateutil>=2.7.3->pandas->StandardScaler) (1.15.0)\n",
            "Requirement already satisfied: scipy in /usr/local/lib/python3.7/dist-packages (from scikit-elm->StandardScaler) (1.4.1)\n",
            "Requirement already satisfied: joblib>=0.11 in /usr/local/lib/python3.7/dist-packages (from scikit-learn->StandardScaler) (1.1.0)\n",
            "Building wheels for collected packages: StandardScaler\n",
            "  Building wheel for StandardScaler (setup.py) ... \u001b[?25l\u001b[?25hdone\n",
            "  Created wheel for StandardScaler: filename=StandardScaler-0.5-py3-none-any.whl size=2613 sha256=62700efc933448027e05cdb02dcb94264e41ed620bf2403f77057b11c4d57679\n",
            "  Stored in directory: /root/.cache/pip/wheels/96/4c/35/4b72d578909a5b4812388c124c58f04651bf2423981ab749b3\n",
            "Successfully built StandardScaler\n",
            "Installing collected packages: scikit-elm, StandardScaler\n",
            "Successfully installed StandardScaler-0.5 scikit-elm-0.21a0\n"
          ]
        }
      ]
    },
    {
      "cell_type": "code",
      "metadata": {
        "colab": {
          "base_uri": "https://localhost:8080/"
        },
        "id": "wqxdAOB7F0Ck",
        "outputId": "7cf2c33a-c186-4afa-aeac-91b16eb2eda1"
      },
      "source": [
        "from sklearn.preprocessing import StandardScaler\n",
        "sc=StandardScaler()\n",
        "X[:,0:3]=sc.fit_transform(X[:,0:3])\n",
        "X"
      ],
      "execution_count": 22,
      "outputs": [
        {
          "output_type": "execute_result",
          "data": {
            "text/plain": [
              "array([[-0.7177405625652736, -0.6859943405700356, 1.3932610920384718,\n",
              "        165349.2, 136897.8, 471784.1],\n",
              "       [1.3932610920384723, -0.6859943405700356, -0.7177405625652735,\n",
              "        162597.7, 151377.59, 443898.53],\n",
              "       [-0.7177405625652736, 1.4577379737113254, -0.7177405625652735,\n",
              "        153441.51, 101145.55, 407934.54],\n",
              "       [-0.7177405625652736, -0.6859943405700356, 1.3932610920384718,\n",
              "        144372.41, 118671.85, 383199.62],\n",
              "       [-0.7177405625652736, 1.4577379737113254, -0.7177405625652735,\n",
              "        142107.34, 91391.77, 366168.42],\n",
              "       [-0.7177405625652736, -0.6859943405700356, 1.3932610920384718,\n",
              "        131876.9, 99814.71, 362861.36],\n",
              "       [1.3932610920384723, -0.6859943405700356, -0.7177405625652735,\n",
              "        134615.46, 147198.87, 127716.82],\n",
              "       [-0.7177405625652736, 1.4577379737113254, -0.7177405625652735,\n",
              "        130298.13, 145530.06, 323876.68],\n",
              "       [-0.7177405625652736, -0.6859943405700356, 1.3932610920384718,\n",
              "        120542.52, 148718.95, 311613.29],\n",
              "       [1.3932610920384723, -0.6859943405700356, -0.7177405625652735,\n",
              "        123334.88, 108679.17, 304981.62],\n",
              "       [-0.7177405625652736, 1.4577379737113254, -0.7177405625652735,\n",
              "        101913.08, 110594.11, 229160.95],\n",
              "       [1.3932610920384723, -0.6859943405700356, -0.7177405625652735,\n",
              "        100671.96, 91790.61, 249744.55],\n",
              "       [-0.7177405625652736, 1.4577379737113254, -0.7177405625652735,\n",
              "        93863.75, 127320.38, 249839.44],\n",
              "       [1.3932610920384723, -0.6859943405700356, -0.7177405625652735,\n",
              "        91992.39, 135495.07, 252664.93],\n",
              "       [-0.7177405625652736, 1.4577379737113254, -0.7177405625652735,\n",
              "        119943.24, 156547.42, 256512.92],\n",
              "       [-0.7177405625652736, -0.6859943405700356, 1.3932610920384718,\n",
              "        114523.61, 122616.84, 261776.23],\n",
              "       [1.3932610920384723, -0.6859943405700356, -0.7177405625652735,\n",
              "        78013.11, 121597.55, 264346.06],\n",
              "       [-0.7177405625652736, -0.6859943405700356, 1.3932610920384718,\n",
              "        94657.16, 145077.58, 282574.31],\n",
              "       [-0.7177405625652736, 1.4577379737113254, -0.7177405625652735,\n",
              "        91749.16, 114175.79, 294919.57],\n",
              "       [-0.7177405625652736, -0.6859943405700356, 1.3932610920384718,\n",
              "        86419.7, 153514.11, 0.0],\n",
              "       [1.3932610920384723, -0.6859943405700356, -0.7177405625652735,\n",
              "        76253.86, 113867.3, 298664.47],\n",
              "       [-0.7177405625652736, -0.6859943405700356, 1.3932610920384718,\n",
              "        78389.47, 153773.43, 299737.29],\n",
              "       [-0.7177405625652736, 1.4577379737113254, -0.7177405625652735,\n",
              "        73994.56, 122782.75, 303319.26],\n",
              "       [-0.7177405625652736, 1.4577379737113254, -0.7177405625652735,\n",
              "        67532.53, 105751.03, 304768.73],\n",
              "       [-0.7177405625652736, -0.6859943405700356, 1.3932610920384718,\n",
              "        77044.01, 99281.34, 140574.81],\n",
              "       [1.3932610920384723, -0.6859943405700356, -0.7177405625652735,\n",
              "        64664.71, 139553.16, 137962.62],\n",
              "       [-0.7177405625652736, 1.4577379737113254, -0.7177405625652735,\n",
              "        75328.87, 144135.98, 134050.07],\n",
              "       [-0.7177405625652736, -0.6859943405700356, 1.3932610920384718,\n",
              "        72107.6, 127864.55, 353183.81],\n",
              "       [-0.7177405625652736, 1.4577379737113254, -0.7177405625652735,\n",
              "        66051.52, 182645.56, 118148.2],\n",
              "       [-0.7177405625652736, -0.6859943405700356, 1.3932610920384718,\n",
              "        65605.48, 153032.06, 107138.38],\n",
              "       [-0.7177405625652736, 1.4577379737113254, -0.7177405625652735,\n",
              "        61994.48, 115641.28, 91131.24],\n",
              "       [-0.7177405625652736, -0.6859943405700356, 1.3932610920384718,\n",
              "        61136.38, 152701.92, 88218.23],\n",
              "       [1.3932610920384723, -0.6859943405700356, -0.7177405625652735,\n",
              "        63408.86, 129219.61, 46085.25],\n",
              "       [-0.7177405625652736, 1.4577379737113254, -0.7177405625652735,\n",
              "        55493.95, 103057.49, 214634.81],\n",
              "       [1.3932610920384723, -0.6859943405700356, -0.7177405625652735,\n",
              "        46426.07, 157693.92, 210797.67],\n",
              "       [-0.7177405625652736, -0.6859943405700356, 1.3932610920384718,\n",
              "        46014.02, 85047.44, 205517.64],\n",
              "       [-0.7177405625652736, 1.4577379737113254, -0.7177405625652735,\n",
              "        28663.76, 127056.21, 201126.82],\n",
              "       [1.3932610920384723, -0.6859943405700356, -0.7177405625652735,\n",
              "        44069.95, 51283.14, 197029.42],\n",
              "       [-0.7177405625652736, -0.6859943405700356, 1.3932610920384718,\n",
              "        20229.59, 65947.93, 185265.1],\n",
              "       [1.3932610920384723, -0.6859943405700356, -0.7177405625652735,\n",
              "        38558.51, 82982.09, 174999.3],\n",
              "       [1.3932610920384723, -0.6859943405700356, -0.7177405625652735,\n",
              "        28754.33, 118546.05, 172795.67],\n",
              "       [-0.7177405625652736, 1.4577379737113254, -0.7177405625652735,\n",
              "        27892.92, 84710.77, 164470.71],\n",
              "       [1.3932610920384723, -0.6859943405700356, -0.7177405625652735,\n",
              "        23640.93, 96189.63, 148001.11],\n",
              "       [-0.7177405625652736, -0.6859943405700356, 1.3932610920384718,\n",
              "        15505.73, 127382.3, 35534.17],\n",
              "       [1.3932610920384723, -0.6859943405700356, -0.7177405625652735,\n",
              "        22177.74, 154806.14, 28334.72],\n",
              "       [-0.7177405625652736, -0.6859943405700356, 1.3932610920384718,\n",
              "        1000.23, 124153.04, 1903.93],\n",
              "       [-0.7177405625652736, 1.4577379737113254, -0.7177405625652735,\n",
              "        1315.46, 115816.21, 297114.46],\n",
              "       [1.3932610920384723, -0.6859943405700356, -0.7177405625652735,\n",
              "        0.0, 135426.92, 0.0],\n",
              "       [-0.7177405625652736, -0.6859943405700356, 1.3932610920384718,\n",
              "        542.05, 51743.15, 0.0],\n",
              "       [1.3932610920384723, -0.6859943405700356, -0.7177405625652735,\n",
              "        0.0, 116983.8, 45173.06]], dtype=object)"
            ]
          },
          "metadata": {},
          "execution_count": 22
        }
      ]
    },
    {
      "cell_type": "code",
      "metadata": {
        "id": "GvbpDo0MGUFZ"
      },
      "source": [
        "from sklearn.model_selection import train_test_split\n",
        "X_train,X_test,Y_train,Y_test=train_test_split(X,Y,test_size=0.2)"
      ],
      "execution_count": 23,
      "outputs": []
    },
    {
      "cell_type": "code",
      "metadata": {
        "colab": {
          "base_uri": "https://localhost:8080/"
        },
        "id": "cPMhOgQJGwCG",
        "outputId": "a61fe524-3121-4980-f76e-edd955c6b605"
      },
      "source": [
        "X_train"
      ],
      "execution_count": 24,
      "outputs": [
        {
          "output_type": "execute_result",
          "data": {
            "text/plain": [
              "array([[-0.7177405625652736, 1.4577379737113254, -0.7177405625652735,\n",
              "        73994.56, 122782.75, 303319.26],\n",
              "       [-0.7177405625652736, -0.6859943405700356, 1.3932610920384718,\n",
              "        20229.59, 65947.93, 185265.1],\n",
              "       [1.3932610920384723, -0.6859943405700356, -0.7177405625652735,\n",
              "        64664.71, 139553.16, 137962.62],\n",
              "       [-0.7177405625652736, 1.4577379737113254, -0.7177405625652735,\n",
              "        142107.34, 91391.77, 366168.42],\n",
              "       [-0.7177405625652736, -0.6859943405700356, 1.3932610920384718,\n",
              "        15505.73, 127382.3, 35534.17],\n",
              "       [-0.7177405625652736, -0.6859943405700356, 1.3932610920384718,\n",
              "        46014.02, 85047.44, 205517.64],\n",
              "       [-0.7177405625652736, 1.4577379737113254, -0.7177405625652735,\n",
              "        55493.95, 103057.49, 214634.81],\n",
              "       [-0.7177405625652736, 1.4577379737113254, -0.7177405625652735,\n",
              "        101913.08, 110594.11, 229160.95],\n",
              "       [1.3932610920384723, -0.6859943405700356, -0.7177405625652735,\n",
              "        162597.7, 151377.59, 443898.53],\n",
              "       [-0.7177405625652736, 1.4577379737113254, -0.7177405625652735,\n",
              "        93863.75, 127320.38, 249839.44],\n",
              "       [-0.7177405625652736, -0.6859943405700356, 1.3932610920384718,\n",
              "        144372.41, 118671.85, 383199.62],\n",
              "       [-0.7177405625652736, -0.6859943405700356, 1.3932610920384718,\n",
              "        86419.7, 153514.11, 0.0],\n",
              "       [1.3932610920384723, -0.6859943405700356, -0.7177405625652735,\n",
              "        76253.86, 113867.3, 298664.47],\n",
              "       [-0.7177405625652736, -0.6859943405700356, 1.3932610920384718,\n",
              "        61136.38, 152701.92, 88218.23],\n",
              "       [1.3932610920384723, -0.6859943405700356, -0.7177405625652735,\n",
              "        123334.88, 108679.17, 304981.62],\n",
              "       [-0.7177405625652736, 1.4577379737113254, -0.7177405625652735,\n",
              "        66051.52, 182645.56, 118148.2],\n",
              "       [1.3932610920384723, -0.6859943405700356, -0.7177405625652735,\n",
              "        0.0, 116983.8, 45173.06],\n",
              "       [-0.7177405625652736, 1.4577379737113254, -0.7177405625652735,\n",
              "        1315.46, 115816.21, 297114.46],\n",
              "       [-0.7177405625652736, -0.6859943405700356, 1.3932610920384718,\n",
              "        1000.23, 124153.04, 1903.93],\n",
              "       [1.3932610920384723, -0.6859943405700356, -0.7177405625652735,\n",
              "        63408.86, 129219.61, 46085.25],\n",
              "       [-0.7177405625652736, 1.4577379737113254, -0.7177405625652735,\n",
              "        61994.48, 115641.28, 91131.24],\n",
              "       [-0.7177405625652736, 1.4577379737113254, -0.7177405625652735,\n",
              "        67532.53, 105751.03, 304768.73],\n",
              "       [-0.7177405625652736, -0.6859943405700356, 1.3932610920384718,\n",
              "        78389.47, 153773.43, 299737.29],\n",
              "       [-0.7177405625652736, -0.6859943405700356, 1.3932610920384718,\n",
              "        131876.9, 99814.71, 362861.36],\n",
              "       [-0.7177405625652736, -0.6859943405700356, 1.3932610920384718,\n",
              "        120542.52, 148718.95, 311613.29],\n",
              "       [1.3932610920384723, -0.6859943405700356, -0.7177405625652735,\n",
              "        22177.74, 154806.14, 28334.72],\n",
              "       [1.3932610920384723, -0.6859943405700356, -0.7177405625652735,\n",
              "        38558.51, 82982.09, 174999.3],\n",
              "       [1.3932610920384723, -0.6859943405700356, -0.7177405625652735,\n",
              "        78013.11, 121597.55, 264346.06],\n",
              "       [-0.7177405625652736, -0.6859943405700356, 1.3932610920384718,\n",
              "        77044.01, 99281.34, 140574.81],\n",
              "       [-0.7177405625652736, -0.6859943405700356, 1.3932610920384718,\n",
              "        94657.16, 145077.58, 282574.31],\n",
              "       [1.3932610920384723, -0.6859943405700356, -0.7177405625652735,\n",
              "        23640.93, 96189.63, 148001.11],\n",
              "       [-0.7177405625652736, 1.4577379737113254, -0.7177405625652735,\n",
              "        119943.24, 156547.42, 256512.92],\n",
              "       [1.3932610920384723, -0.6859943405700356, -0.7177405625652735,\n",
              "        100671.96, 91790.61, 249744.55],\n",
              "       [1.3932610920384723, -0.6859943405700356, -0.7177405625652735,\n",
              "        46426.07, 157693.92, 210797.67],\n",
              "       [-0.7177405625652736, 1.4577379737113254, -0.7177405625652735,\n",
              "        27892.92, 84710.77, 164470.71],\n",
              "       [-0.7177405625652736, 1.4577379737113254, -0.7177405625652735,\n",
              "        130298.13, 145530.06, 323876.68],\n",
              "       [-0.7177405625652736, 1.4577379737113254, -0.7177405625652735,\n",
              "        75328.87, 144135.98, 134050.07],\n",
              "       [-0.7177405625652736, 1.4577379737113254, -0.7177405625652735,\n",
              "        28663.76, 127056.21, 201126.82],\n",
              "       [1.3932610920384723, -0.6859943405700356, -0.7177405625652735,\n",
              "        91992.39, 135495.07, 252664.93],\n",
              "       [1.3932610920384723, -0.6859943405700356, -0.7177405625652735,\n",
              "        28754.33, 118546.05, 172795.67]], dtype=object)"
            ]
          },
          "metadata": {},
          "execution_count": 24
        }
      ]
    },
    {
      "cell_type": "code",
      "metadata": {
        "colab": {
          "base_uri": "https://localhost:8080/"
        },
        "id": "HsoCsj7XG0FA",
        "outputId": "f66a86dd-2dd3-4198-8f2f-248a22c4dd42"
      },
      "source": [
        "X_test"
      ],
      "execution_count": 25,
      "outputs": [
        {
          "output_type": "execute_result",
          "data": {
            "text/plain": [
              "array([[-0.7177405625652736, 1.4577379737113254, -0.7177405625652735,\n",
              "        153441.51, 101145.55, 407934.54],\n",
              "       [1.3932610920384723, -0.6859943405700356, -0.7177405625652735,\n",
              "        44069.95, 51283.14, 197029.42],\n",
              "       [-0.7177405625652736, -0.6859943405700356, 1.3932610920384718,\n",
              "        72107.6, 127864.55, 353183.81],\n",
              "       [-0.7177405625652736, 1.4577379737113254, -0.7177405625652735,\n",
              "        91749.16, 114175.79, 294919.57],\n",
              "       [-0.7177405625652736, -0.6859943405700356, 1.3932610920384718,\n",
              "        542.05, 51743.15, 0.0],\n",
              "       [-0.7177405625652736, -0.6859943405700356, 1.3932610920384718,\n",
              "        65605.48, 153032.06, 107138.38],\n",
              "       [1.3932610920384723, -0.6859943405700356, -0.7177405625652735,\n",
              "        0.0, 135426.92, 0.0],\n",
              "       [1.3932610920384723, -0.6859943405700356, -0.7177405625652735,\n",
              "        134615.46, 147198.87, 127716.82],\n",
              "       [-0.7177405625652736, -0.6859943405700356, 1.3932610920384718,\n",
              "        114523.61, 122616.84, 261776.23],\n",
              "       [-0.7177405625652736, -0.6859943405700356, 1.3932610920384718,\n",
              "        165349.2, 136897.8, 471784.1]], dtype=object)"
            ]
          },
          "metadata": {},
          "execution_count": 25
        }
      ]
    },
    {
      "cell_type": "code",
      "metadata": {
        "colab": {
          "base_uri": "https://localhost:8080/"
        },
        "id": "HdFH2LpbG9eS",
        "outputId": "98e12999-5427-4001-990a-053da247557d"
      },
      "source": [
        "Y_train"
      ],
      "execution_count": 26,
      "outputs": [
        {
          "output_type": "execute_result",
          "data": {
            "text/plain": [
              "array([110352.25,  81229.06, 107404.34, 166187.94,  69758.98,  96479.51,\n",
              "        96778.92, 146121.95, 191792.06, 141585.52, 182901.99, 122776.86,\n",
              "       118474.03,  97483.56, 149759.96, 103282.38,  14681.4 ,  49490.75,\n",
              "        64926.08,  97427.84,  99937.59, 108733.99, 111313.02, 156991.12,\n",
              "       152211.77,  65200.33,  81005.76, 126992.93, 108552.04, 125370.37,\n",
              "        71498.49, 132602.65, 144259.4 ,  96712.8 ,  77798.83, 155752.6 ,\n",
              "       105733.54,  90708.19, 134307.35,  78239.91])"
            ]
          },
          "metadata": {},
          "execution_count": 26
        }
      ]
    },
    {
      "cell_type": "code",
      "metadata": {
        "colab": {
          "base_uri": "https://localhost:8080/"
        },
        "id": "bpcH2HDdHBGU",
        "outputId": "20fe9fde-7237-416c-aaa6-6acbfc848760"
      },
      "source": [
        "Y_test"
      ],
      "execution_count": 27,
      "outputs": [
        {
          "output_type": "execute_result",
          "data": {
            "text/plain": [
              "array([191050.39,  89949.14, 105008.31, 124266.9 ,  35673.41, 101004.64,\n",
              "        42559.73, 156122.51, 129917.04, 192261.83])"
            ]
          },
          "metadata": {},
          "execution_count": 27
        }
      ]
    }
  ]
}